{
 "cells": [
  {
   "cell_type": "markdown",
   "metadata": {},
   "source": [
    "## Penultimate notebook, creating the building blocks of our final dataset!\n",
    "\n",
    "In the previous notebooks we have done cleaning of the zindi training data, as well as the kaggle dataset we generated ourselves from downloading metadata from the Kaggle API. In this notebook we load our previously generated datasets and generate the following csvs:\n",
    "\n",
    "-FULL_kaggle_1s = pd.read_csv('FULL_kaggle_1s.csv'), containing all the health-related kaggle samples\n",
    "\n",
    "-kaggle_0s = pd.read_csv('kaggle_0s.csv'), containing all the non-health related kaggle samples\n",
    "\n",
    "-zindi_1s = pd.read_csv('zindi_1s.csv'), containing all the zindi samples (which are all health related)\n",
    "\n",
    "-kaggle_testing = pd.read_csv('kaggle_1s_testing.csv'), a smaller subportion of health related kaggle samples for testing\n",
    "\n",
    "plan:\n",
    "load zindi training data, delete all indicator columns, replace with one column '1'\n",
    "load the size+usability filtered kaggle data, add columns for each keyword, populate with '1' if dataset has that keyword and '0' otherwise\n"
   ]
  },
  {
   "cell_type": "code",
   "execution_count": 3,
   "metadata": {},
   "outputs": [],
   "source": [
    "import pandas as pd\n",
    "import numpy as np\n",
    "import re\n"
   ]
  },
  {
   "cell_type": "code",
   "execution_count": 4,
   "metadata": {},
   "outputs": [],
   "source": [
    "#loading the previously generated cleaned and/or filtered datasets\n",
    "kaggle_df = pd.read_csv('clean_descriptions_kaggle_nonhealth_related.csv', encoding='utf-8')\n",
    "zindi_training = pd.read_csv('train_CLEAN.csv', encoding='utf-8', engine='python')\n",
    "kaggle_health_related_df = pd.read_csv('clean_descriptions_kaggle_health_related.csv')\n",
    "FULL_kaggle_health_related = pd.read_csv('clean_description_FULLkagglemetadata_health_related.csv')"
   ]
  },
  {
   "cell_type": "code",
   "execution_count": 48,
   "metadata": {},
   "outputs": [
    {
     "data": {
      "text/plain": [
       "'dataset consists 180k+ recipes 700k+ recipe reviews covering 18 years user interactions uploads foodcom formerly geniuskitchen used following paper generating personalized recipes historical user preferences bodhisattwa prasad majumder shuyang li jianmo ni julian mcauley emnlp 2019 https arxivorg pdf 190900105pdf'"
      ]
     },
     "execution_count": 48,
     "metadata": {},
     "output_type": "execute_result"
    }
   ],
   "source": [
    "len(kaggle_health_related_df)\n",
    "kaggle_health_related_df['description'][0]"
   ]
  },
  {
   "cell_type": "code",
   "execution_count": 49,
   "metadata": {},
   "outputs": [
    {
     "data": {
      "text/plain": [
       "'canadians elect representatives house commons leader party confidence majority members house forms government data explores results elections past couple decades'"
      ]
     },
     "execution_count": 49,
     "metadata": {},
     "output_type": "execute_result"
    }
   ],
   "source": [
    "kaggle_df['description'][0]"
   ]
  },
  {
   "cell_type": "code",
   "execution_count": 50,
   "metadata": {},
   "outputs": [
    {
     "data": {
      "text/plain": [
       "False    1007\n",
       "True       39\n",
       "Name: description, dtype: int64"
      ]
     },
     "execution_count": 50,
     "metadata": {},
     "output_type": "execute_result"
    }
   ],
   "source": [
    "kaggle_df['description'].isna().value_counts()"
   ]
  },
  {
   "cell_type": "code",
   "execution_count": 51,
   "metadata": {},
   "outputs": [],
   "source": [
    "indices = np.where(kaggle_df['description'].isna()==True)"
   ]
  },
  {
   "cell_type": "code",
   "execution_count": 52,
   "metadata": {},
   "outputs": [
    {
     "data": {
      "text/plain": [
       "[53,\n",
       " 137,\n",
       " 138,\n",
       " 139,\n",
       " 203,\n",
       " 289,\n",
       " 461,\n",
       " 659,\n",
       " 664,\n",
       " 666,\n",
       " 671,\n",
       " 677,\n",
       " 692,\n",
       " 711,\n",
       " 712,\n",
       " 725,\n",
       " 733,\n",
       " 736,\n",
       " 743,\n",
       " 749,\n",
       " 752,\n",
       " 761,\n",
       " 764,\n",
       " 781,\n",
       " 814,\n",
       " 833,\n",
       " 834,\n",
       " 838,\n",
       " 841,\n",
       " 842,\n",
       " 871,\n",
       " 884,\n",
       " 972,\n",
       " 977,\n",
       " 988,\n",
       " 1009,\n",
       " 1018,\n",
       " 1027,\n",
       " 1040]"
      ]
     },
     "execution_count": 52,
     "metadata": {},
     "output_type": "execute_result"
    }
   ],
   "source": [
    "list(indices[0])"
   ]
  },
  {
   "cell_type": "code",
   "execution_count": 53,
   "metadata": {},
   "outputs": [
    {
     "data": {
      "text/plain": [
       "53                         eod data dow jones stocks\n",
       "137                            video object tracking\n",
       "138                         news brazilian newspaper\n",
       "139                         news brazilian newspaper\n",
       "203                    thrinaxodon broomistega 3d ct\n",
       "289                                  crime vancouver\n",
       "461                         computer parts cpus gpus\n",
       "659          embeddings glove crawl etc torch cached\n",
       "664                               dogs gone sideways\n",
       "666        airline delay cancellation data 2009 2018\n",
       "671            air pollution paulo brazil since 2013\n",
       "677          yearly tables big soccer leagues europe\n",
       "692                                          lanl_ft\n",
       "711                              oxford iiit dataset\n",
       "712     eur usd forex pair historical data 2002 2019\n",
       "725                               mnist preprocessed\n",
       "733                        full keras pretrained top\n",
       "736                             cifar10 preprocessed\n",
       "743                      bay area bike sharing trips\n",
       "749                     steam games complete dataset\n",
       "752                                   h1b prediction\n",
       "761           amateur unmanned air vehicle detection\n",
       "764                      uci news aggregator dataset\n",
       "781         nytimes article lead paragraphs 18512017\n",
       "814                     seattle sdot collisions data\n",
       "833                              120h spanish speech\n",
       "834                                        cmu mocap\n",
       "838            penn state rock mechanics lab exp4581\n",
       "841                                allennlp packages\n",
       "842                      polish politicians speeches\n",
       "871                   topic tsv freebase common dump\n",
       "884      last week tonight zebra video images models\n",
       "972      last week tonight zebra video images models\n",
       "977                                gog games reviews\n",
       "988                                   wiki_portugues\n",
       "1009                            clash royale matches\n",
       "1018                                fics chess games\n",
       "1027     last week tonight zebra video images models\n",
       "1040             political conflicts africa 19972018\n",
       "Name: title, dtype: object"
      ]
     },
     "execution_count": 53,
     "metadata": {},
     "output_type": "execute_result"
    }
   ],
   "source": [
    "#all the nan description rows do have titles! \n",
    "kaggle_df['title'][list(indices[0])]"
   ]
  },
  {
   "cell_type": "code",
   "execution_count": 54,
   "metadata": {},
   "outputs": [
    {
     "data": {
      "text/plain": [
       "0.0    1046\n",
       "Name: health_related, dtype: int64"
      ]
     },
     "execution_count": 54,
     "metadata": {},
     "output_type": "execute_result"
    }
   ],
   "source": [
    "kaggle_df.health_related.value_counts()"
   ]
  },
  {
   "cell_type": "code",
   "execution_count": 55,
   "metadata": {},
   "outputs": [
    {
     "data": {
      "text/plain": [
       "0       centers biomedical research excellence cobre p...\n",
       "1       research regenerative medicine h2strongintrodu...\n",
       "2       catholic health association india chai pthe ca...\n",
       "3                quality improvement initiatives diabetes\n",
       "4       provision thalassemia drugs disposables h2stro...\n",
       "                              ...                        \n",
       "2990              rats could help reduce global tb burden\n",
       "2991    exploratory analyses adherence strategies data...\n",
       "2992    study vaccines diarrhoeal diseases lower respi...\n",
       "2993    regional engagement stimulation fund human imm...\n",
       "2994    graphic design services consultancy pstrongobj...\n",
       "Name: Text, Length: 2995, dtype: object"
      ]
     },
     "execution_count": 55,
     "metadata": {},
     "output_type": "execute_result"
    }
   ],
   "source": [
    "zindi_training.Text"
   ]
  },
  {
   "cell_type": "markdown",
   "metadata": {},
   "source": [
    "## the only information we really need is text and target 3\n",
    "The following cells combine the title into the description text so that the title appears first."
   ]
  },
  {
   "cell_type": "code",
   "execution_count": 56,
   "metadata": {},
   "outputs": [
    {
     "data": {
      "text/plain": [
       "'canadian federal election results timeseries canadians elect representatives house commons leader party confidence majority members house forms government data explores results elections past couple decades'"
      ]
     },
     "execution_count": 56,
     "metadata": {},
     "output_type": "execute_result"
    }
   ],
   "source": [
    "string1 = kaggle_df.title[0]\n",
    "string2 = kaggle_df.description[0]\n",
    "string1 + \" \" + string2"
   ]
  },
  {
   "cell_type": "code",
   "execution_count": 57,
   "metadata": {},
   "outputs": [
    {
     "data": {
      "text/plain": [
       "'canadians elect representatives house commons leader party confidence majority members house forms government data explores results elections past couple decades'"
      ]
     },
     "execution_count": 57,
     "metadata": {},
     "output_type": "execute_result"
    }
   ],
   "source": [
    "kaggle_df['description'][0]"
   ]
  },
  {
   "cell_type": "code",
   "execution_count": 58,
   "metadata": {},
   "outputs": [
    {
     "data": {
      "text/plain": [
       "'canadian federal election results timeseries canadians elect representatives house commons leader party confidence majority members house forms government data explores results elections past couple decades'"
      ]
     },
     "execution_count": 58,
     "metadata": {},
     "output_type": "execute_result"
    }
   ],
   "source": [
    "kaggle_df.title[0] + \" \" + kaggle_df.description[0]"
   ]
  },
  {
   "cell_type": "code",
   "execution_count": 63,
   "metadata": {},
   "outputs": [
    {
     "data": {
      "text/plain": [
       "0       canadians elect representatives house commons ...\n",
       "1       related paper sichkar v n kolyubin effect vari...\n",
       "2       airbnb successfully disrupted traditional hosp...\n",
       "3       dataset contains 13 million sarcastic comments...\n",
       "4       dataset used blog post https clorichelcom blog...\n",
       "                              ...                        \n",
       "1041    theres story behind every dataset heres opport...\n",
       "1042    united state federal highway administration fh...\n",
       "1043    works focuses upon creating data set pandas q ...\n",
       "1044    dataset com fotos tiradas com cmera de um ipho...\n",
       "1045    attempt figure books judged blurb cover wanted...\n",
       "Name: description, Length: 1046, dtype: object"
      ]
     },
     "execution_count": 63,
     "metadata": {},
     "output_type": "execute_result"
    }
   ],
   "source": [
    "kaggle_df['description'].fillna(\"\")"
   ]
  },
  {
   "cell_type": "code",
   "execution_count": 1,
   "metadata": {},
   "outputs": [],
   "source": [
    "#function to combine strings contained in two series objects\n",
    "def combine_strings(str_series1, str_series2):\n",
    "    str_series1 = str_series1.fillna(\"\")\n",
    "    str_series2 = str_series2.fillna(\"\")\n",
    "    new_series = str_series1 + \" \" + str_series2\n",
    "    return new_series"
   ]
  },
  {
   "cell_type": "code",
   "execution_count": 65,
   "metadata": {},
   "outputs": [],
   "source": [
    "#create a small testing dataset with previously collected filtered by usability and size\n",
    "#health related kaggle datasets\n",
    "kaggle_health_related_df['Text'] = combine_strings(kaggle_health_related_df['title'], kaggle_health_related_df['description'])"
   ]
  },
  {
   "cell_type": "code",
   "execution_count": 67,
   "metadata": {},
   "outputs": [
    {
     "data": {
      "text/plain": [
       "'foodcom recipes interactions dataset consists 180k+ recipes 700k+ recipe reviews covering 18 years user interactions uploads foodcom formerly geniuskitchen used following paper generating personalized recipes historical user preferences bodhisattwa prasad majumder shuyang li jianmo ni julian mcauley emnlp 2019 https arxivorg pdf 190900105pdf'"
      ]
     },
     "execution_count": 67,
     "metadata": {},
     "output_type": "execute_result"
    }
   ],
   "source": [
    "kaggle_health_related_df['Text'][0]"
   ]
  },
  {
   "cell_type": "code",
   "execution_count": 68,
   "metadata": {},
   "outputs": [],
   "source": [
    "#create the text column for the FULL kaggle health related metadata, 654 1s\n",
    "FULL_kaggle_health_related['Text'] = combine_strings(FULL_kaggle_health_related['title'], FULL_kaggle_health_related['description'])"
   ]
  },
  {
   "cell_type": "code",
   "execution_count": 69,
   "metadata": {},
   "outputs": [
    {
     "data": {
      "text/plain": [
       "False    654\n",
       "Name: Text, dtype: int64"
      ]
     },
     "execution_count": 69,
     "metadata": {},
     "output_type": "execute_result"
    }
   ],
   "source": [
    "FULL_kaggle_health_related['Text'].isna().value_counts()"
   ]
  },
  {
   "cell_type": "code",
   "execution_count": 70,
   "metadata": {},
   "outputs": [
    {
     "data": {
      "text/plain": [
       "'foodcom recipes interactions dataset consists 180k+ recipes 700k+ recipe reviews covering 18 years user interactions uploads foodcom formerly geniuskitchen used following paper generating personalized recipes historical user preferences bodhisattwa prasad majumder shuyang li jianmo ni julian mcauley emnlp 2019 https arxivorg pdf 190900105pdf'"
      ]
     },
     "execution_count": 70,
     "metadata": {},
     "output_type": "execute_result"
    }
   ],
   "source": [
    "FULL_kaggle_health_related['Text'][0]"
   ]
  },
  {
   "cell_type": "code",
   "execution_count": 71,
   "metadata": {},
   "outputs": [],
   "source": [
    "#this is a new df of ALL the kaggle health related examples with no filter, 654 sames\n",
    "FULL_kaggle_1s = FULL_kaggle_health_related[['Text','health_related']]"
   ]
  },
  {
   "cell_type": "code",
   "execution_count": 72,
   "metadata": {},
   "outputs": [
    {
     "data": {
      "text/plain": [
       "'foodcom recipes interactions dataset consists 180k+ recipes 700k+ recipe reviews covering 18 years user interactions uploads foodcom formerly geniuskitchen used following paper generating personalized recipes historical user preferences bodhisattwa prasad majumder shuyang li jianmo ni julian mcauley emnlp 2019 https arxivorg pdf 190900105pdf'"
      ]
     },
     "execution_count": 72,
     "metadata": {},
     "output_type": "execute_result"
    }
   ],
   "source": [
    "FULL_kaggle_1s['Text'][0]"
   ]
  },
  {
   "cell_type": "code",
   "execution_count": 73,
   "metadata": {},
   "outputs": [],
   "source": [
    "#save to csv\n",
    "FULL_kaggle_1s.to_csv('FULL_kaggle_1s.csv')"
   ]
  },
  {
   "cell_type": "code",
   "execution_count": 77,
   "metadata": {},
   "outputs": [],
   "source": [
    "#create the text column for the kaggle 0s\n",
    "kaggle_df['Text'] = combine_strings(kaggle_df['title'], kaggle_df['description'])"
   ]
  },
  {
   "cell_type": "code",
   "execution_count": 78,
   "metadata": {},
   "outputs": [
    {
     "data": {
      "text/plain": [
       "'canadian federal election results timeseries canadians elect representatives house commons leader party confidence majority members house forms government data explores results elections past couple decades'"
      ]
     },
     "execution_count": 78,
     "metadata": {},
     "output_type": "execute_result"
    }
   ],
   "source": [
    "kaggle_df['Text'][0]"
   ]
  },
  {
   "cell_type": "code",
   "execution_count": 79,
   "metadata": {},
   "outputs": [
    {
     "data": {
      "text/plain": [
       "False    1046\n",
       "Name: Text, dtype: int64"
      ]
     },
     "execution_count": 79,
     "metadata": {},
     "output_type": "execute_result"
    }
   ],
   "source": [
    "kaggle_df['Text'].isna().value_counts()"
   ]
  },
  {
   "cell_type": "code",
   "execution_count": 80,
   "metadata": {},
   "outputs": [
    {
     "data": {
      "text/plain": [
       "'canadian federal election results timeseries canadians elect representatives house commons leader party confidence majority members house forms government data explores results elections past couple decades'"
      ]
     },
     "execution_count": 80,
     "metadata": {},
     "output_type": "execute_result"
    }
   ],
   "source": [
    "kaggle_df['Text'][0]"
   ]
  },
  {
   "cell_type": "code",
   "execution_count": 81,
   "metadata": {},
   "outputs": [
    {
     "data": {
      "text/plain": [
       "0       0.0\n",
       "1       0.0\n",
       "2       0.0\n",
       "3       0.0\n",
       "4       0.0\n",
       "       ... \n",
       "1041    0.0\n",
       "1042    0.0\n",
       "1043    0.0\n",
       "1044    0.0\n",
       "1045    0.0\n",
       "Name: health_related, Length: 1046, dtype: float64"
      ]
     },
     "execution_count": 81,
     "metadata": {},
     "output_type": "execute_result"
    }
   ],
   "source": [
    "kaggle_df['health_related']"
   ]
  },
  {
   "cell_type": "code",
   "execution_count": 86,
   "metadata": {},
   "outputs": [],
   "source": [
    "#this is testing set\n",
    "kaggle_health_related_df['Text'] = combine_strings(kaggle_health_related_df['title'], kaggle_health_related_df['description'])"
   ]
  },
  {
   "cell_type": "code",
   "execution_count": 87,
   "metadata": {},
   "outputs": [],
   "source": [
    "#this is the testing dataset\n",
    "kaggle1s = kaggle_health_related_df[['Text','health_related']]"
   ]
  },
  {
   "cell_type": "code",
   "execution_count": 88,
   "metadata": {},
   "outputs": [
    {
     "data": {
      "text/plain": [
       "1.0    158\n",
       "Name: health_related, dtype: int64"
      ]
     },
     "execution_count": 88,
     "metadata": {},
     "output_type": "execute_result"
    }
   ],
   "source": [
    "#this is testing set\n",
    "kaggle1s['health_related'].value_counts()"
   ]
  },
  {
   "cell_type": "code",
   "execution_count": 89,
   "metadata": {},
   "outputs": [],
   "source": [
    "#save as the smaller testing set\n",
    "kaggle1s.to_csv('kaggle_1s_testing.csv')"
   ]
  },
  {
   "cell_type": "code",
   "execution_count": 90,
   "metadata": {},
   "outputs": [],
   "source": [
    "#this goes into the training data, kaggle 0s that came from the filtered size/usability kaggle data\n",
    "kaggle_0s = kaggle_df[['Text','health_related']]"
   ]
  },
  {
   "cell_type": "code",
   "execution_count": 91,
   "metadata": {},
   "outputs": [
    {
     "data": {
      "text/html": [
       "<div>\n",
       "<style scoped>\n",
       "    .dataframe tbody tr th:only-of-type {\n",
       "        vertical-align: middle;\n",
       "    }\n",
       "\n",
       "    .dataframe tbody tr th {\n",
       "        vertical-align: top;\n",
       "    }\n",
       "\n",
       "    .dataframe thead th {\n",
       "        text-align: right;\n",
       "    }\n",
       "</style>\n",
       "<table border=\"1\" class=\"dataframe\">\n",
       "  <thead>\n",
       "    <tr style=\"text-align: right;\">\n",
       "      <th></th>\n",
       "      <th>Text</th>\n",
       "      <th>health_related</th>\n",
       "    </tr>\n",
       "  </thead>\n",
       "  <tbody>\n",
       "    <tr>\n",
       "      <th>0</th>\n",
       "      <td>canadian federal election results timeseries c...</td>\n",
       "      <td>0.0</td>\n",
       "    </tr>\n",
       "    <tr>\n",
       "      <th>1</th>\n",
       "      <td>traffic signs preprocessed related paper sichk...</td>\n",
       "      <td>0.0</td>\n",
       "    </tr>\n",
       "    <tr>\n",
       "      <th>2</th>\n",
       "      <td>berlin airbnb data airbnb successfully disrupt...</td>\n",
       "      <td>0.0</td>\n",
       "    </tr>\n",
       "    <tr>\n",
       "      <th>3</th>\n",
       "      <td>sarcastic comments reddit dataset contains 13 ...</td>\n",
       "      <td>0.0</td>\n",
       "    </tr>\n",
       "    <tr>\n",
       "      <th>4</th>\n",
       "      <td>boat types recognition dataset used blog post ...</td>\n",
       "      <td>0.0</td>\n",
       "    </tr>\n",
       "    <tr>\n",
       "      <th>5</th>\n",
       "      <td>mlb pitch data 20152018 pitchlevel data every ...</td>\n",
       "      <td>0.0</td>\n",
       "    </tr>\n",
       "    <tr>\n",
       "      <th>6</th>\n",
       "      <td>consumer visitor insights neighborhoods safegr...</td>\n",
       "      <td>0.0</td>\n",
       "    </tr>\n",
       "    <tr>\n",
       "      <th>7</th>\n",
       "      <td>cvpr 2019 papers cvpr http cvpr2019thecvfcom p...</td>\n",
       "      <td>0.0</td>\n",
       "    </tr>\n",
       "    <tr>\n",
       "      <th>8</th>\n",
       "      <td>department justice 20092018 press releases his...</td>\n",
       "      <td>0.0</td>\n",
       "    </tr>\n",
       "    <tr>\n",
       "      <th>9</th>\n",
       "      <td>department justice 20092018 press releases his...</td>\n",
       "      <td>0.0</td>\n",
       "    </tr>\n",
       "  </tbody>\n",
       "</table>\n",
       "</div>"
      ],
      "text/plain": [
       "                                                Text  health_related\n",
       "0  canadian federal election results timeseries c...             0.0\n",
       "1  traffic signs preprocessed related paper sichk...             0.0\n",
       "2  berlin airbnb data airbnb successfully disrupt...             0.0\n",
       "3  sarcastic comments reddit dataset contains 13 ...             0.0\n",
       "4  boat types recognition dataset used blog post ...             0.0\n",
       "5  mlb pitch data 20152018 pitchlevel data every ...             0.0\n",
       "6  consumer visitor insights neighborhoods safegr...             0.0\n",
       "7  cvpr 2019 papers cvpr http cvpr2019thecvfcom p...             0.0\n",
       "8  department justice 20092018 press releases his...             0.0\n",
       "9  department justice 20092018 press releases his...             0.0"
      ]
     },
     "execution_count": 91,
     "metadata": {},
     "output_type": "execute_result"
    }
   ],
   "source": [
    "kaggle_0s.head(10)"
   ]
  },
  {
   "cell_type": "code",
   "execution_count": 92,
   "metadata": {},
   "outputs": [],
   "source": [
    "kaggle_0s.to_csv('kaggle_0s.csv')"
   ]
  },
  {
   "cell_type": "code",
   "execution_count": 93,
   "metadata": {},
   "outputs": [],
   "source": [
    "zindi_1s = zindi_training[['Text']]"
   ]
  },
  {
   "cell_type": "code",
   "execution_count": 94,
   "metadata": {},
   "outputs": [
    {
     "name": "stderr",
     "output_type": "stream",
     "text": [
      "/Users/annachesson/anaconda3/envs/keras/lib/python3.6/site-packages/ipykernel_launcher.py:1: SettingWithCopyWarning: \n",
      "A value is trying to be set on a copy of a slice from a DataFrame.\n",
      "Try using .loc[row_indexer,col_indexer] = value instead\n",
      "\n",
      "See the caveats in the documentation: http://pandas.pydata.org/pandas-docs/stable/user_guide/indexing.html#returning-a-view-versus-a-copy\n",
      "  \"\"\"Entry point for launching an IPython kernel.\n"
     ]
    }
   ],
   "source": [
    "zindi_1s['health_related'] = pd.Series(np.ones(len(zindi_training['Text'])))"
   ]
  },
  {
   "cell_type": "code",
   "execution_count": 95,
   "metadata": {},
   "outputs": [
    {
     "data": {
      "text/html": [
       "<div>\n",
       "<style scoped>\n",
       "    .dataframe tbody tr th:only-of-type {\n",
       "        vertical-align: middle;\n",
       "    }\n",
       "\n",
       "    .dataframe tbody tr th {\n",
       "        vertical-align: top;\n",
       "    }\n",
       "\n",
       "    .dataframe thead th {\n",
       "        text-align: right;\n",
       "    }\n",
       "</style>\n",
       "<table border=\"1\" class=\"dataframe\">\n",
       "  <thead>\n",
       "    <tr style=\"text-align: right;\">\n",
       "      <th></th>\n",
       "      <th>Text</th>\n",
       "      <th>health_related</th>\n",
       "    </tr>\n",
       "  </thead>\n",
       "  <tbody>\n",
       "    <tr>\n",
       "      <th>0</th>\n",
       "      <td>centers biomedical research excellence cobre p...</td>\n",
       "      <td>1.0</td>\n",
       "    </tr>\n",
       "    <tr>\n",
       "      <th>1</th>\n",
       "      <td>research regenerative medicine h2strongintrodu...</td>\n",
       "      <td>1.0</td>\n",
       "    </tr>\n",
       "    <tr>\n",
       "      <th>2</th>\n",
       "      <td>catholic health association india chai pthe ca...</td>\n",
       "      <td>1.0</td>\n",
       "    </tr>\n",
       "    <tr>\n",
       "      <th>3</th>\n",
       "      <td>quality improvement initiatives diabetes</td>\n",
       "      <td>1.0</td>\n",
       "    </tr>\n",
       "    <tr>\n",
       "      <th>4</th>\n",
       "      <td>provision thalassemia drugs disposables h2stro...</td>\n",
       "      <td>1.0</td>\n",
       "    </tr>\n",
       "    <tr>\n",
       "      <th>5</th>\n",
       "      <td>egypt country programme family planning 201820...</td>\n",
       "      <td>1.0</td>\n",
       "    </tr>\n",
       "    <tr>\n",
       "      <th>6</th>\n",
       "      <td>improving quantification forecasting new drugs...</td>\n",
       "      <td>1.0</td>\n",
       "    </tr>\n",
       "    <tr>\n",
       "      <th>7</th>\n",
       "      <td>call metrology emerging radiopharmaceuticals d...</td>\n",
       "      <td>1.0</td>\n",
       "    </tr>\n",
       "    <tr>\n",
       "      <th>8</th>\n",
       "      <td>funding stimulate clinical translational multi...</td>\n",
       "      <td>1.0</td>\n",
       "    </tr>\n",
       "    <tr>\n",
       "      <th>9</th>\n",
       "      <td>procurement radiopharmaceuticals treatment can...</td>\n",
       "      <td>1.0</td>\n",
       "    </tr>\n",
       "  </tbody>\n",
       "</table>\n",
       "</div>"
      ],
      "text/plain": [
       "                                                Text  health_related\n",
       "0  centers biomedical research excellence cobre p...             1.0\n",
       "1  research regenerative medicine h2strongintrodu...             1.0\n",
       "2  catholic health association india chai pthe ca...             1.0\n",
       "3           quality improvement initiatives diabetes             1.0\n",
       "4  provision thalassemia drugs disposables h2stro...             1.0\n",
       "5  egypt country programme family planning 201820...             1.0\n",
       "6  improving quantification forecasting new drugs...             1.0\n",
       "7  call metrology emerging radiopharmaceuticals d...             1.0\n",
       "8  funding stimulate clinical translational multi...             1.0\n",
       "9  procurement radiopharmaceuticals treatment can...             1.0"
      ]
     },
     "execution_count": 95,
     "metadata": {},
     "output_type": "execute_result"
    }
   ],
   "source": [
    "zindi_1s.head(10)"
   ]
  },
  {
   "cell_type": "code",
   "execution_count": 96,
   "metadata": {},
   "outputs": [],
   "source": [
    "zindi_1s.to_csv('zindi_1s.csv')"
   ]
  },
  {
   "cell_type": "code",
   "execution_count": 34,
   "metadata": {},
   "outputs": [],
   "source": [
    "health_related_training = pd.concat([kaggle_0s, zindi_1s], axis=0)"
   ]
  },
  {
   "cell_type": "code",
   "execution_count": 35,
   "metadata": {},
   "outputs": [
    {
     "data": {
      "text/html": [
       "<div>\n",
       "<style scoped>\n",
       "    .dataframe tbody tr th:only-of-type {\n",
       "        vertical-align: middle;\n",
       "    }\n",
       "\n",
       "    .dataframe tbody tr th {\n",
       "        vertical-align: top;\n",
       "    }\n",
       "\n",
       "    .dataframe thead th {\n",
       "        text-align: right;\n",
       "    }\n",
       "</style>\n",
       "<table border=\"1\" class=\"dataframe\">\n",
       "  <thead>\n",
       "    <tr style=\"text-align: right;\">\n",
       "      <th></th>\n",
       "      <th>Text</th>\n",
       "      <th>health_related</th>\n",
       "    </tr>\n",
       "  </thead>\n",
       "  <tbody>\n",
       "    <tr>\n",
       "      <th>0</th>\n",
       "      <td>Canadian Federal Election Results (Timeseries)...</td>\n",
       "      <td>0.0</td>\n",
       "    </tr>\n",
       "    <tr>\n",
       "      <th>1</th>\n",
       "      <td>Traffic Signs Preprocessed ### Related Paper\\n...</td>\n",
       "      <td>0.0</td>\n",
       "    </tr>\n",
       "    <tr>\n",
       "      <th>2</th>\n",
       "      <td>Berlin Airbnb Data ### Context\\n\\nAirbnb has s...</td>\n",
       "      <td>0.0</td>\n",
       "    </tr>\n",
       "    <tr>\n",
       "      <th>3</th>\n",
       "      <td>Sarcastic Comments - REDDIT ***Context***\\n\\nT...</td>\n",
       "      <td>0.0</td>\n",
       "    </tr>\n",
       "    <tr>\n",
       "      <th>4</th>\n",
       "      <td>Boat types recognition ### Context\\n\\nThis dat...</td>\n",
       "      <td>0.0</td>\n",
       "    </tr>\n",
       "    <tr>\n",
       "      <th>...</th>\n",
       "      <td>...</td>\n",
       "      <td>...</td>\n",
       "    </tr>\n",
       "    <tr>\n",
       "      <th>2990</th>\n",
       "      <td>rats could help reduce global tb burden</td>\n",
       "      <td>1.0</td>\n",
       "    </tr>\n",
       "    <tr>\n",
       "      <th>2991</th>\n",
       "      <td>exploratory analyses adherence strategies data...</td>\n",
       "      <td>1.0</td>\n",
       "    </tr>\n",
       "    <tr>\n",
       "      <th>2992</th>\n",
       "      <td>study vaccines diarrhoeal diseases lower respi...</td>\n",
       "      <td>1.0</td>\n",
       "    </tr>\n",
       "    <tr>\n",
       "      <th>2993</th>\n",
       "      <td>regional engagement stimulation fund human imm...</td>\n",
       "      <td>1.0</td>\n",
       "    </tr>\n",
       "    <tr>\n",
       "      <th>2994</th>\n",
       "      <td>graphic design services consultancy pstrongobj...</td>\n",
       "      <td>1.0</td>\n",
       "    </tr>\n",
       "  </tbody>\n",
       "</table>\n",
       "<p>4041 rows × 2 columns</p>\n",
       "</div>"
      ],
      "text/plain": [
       "                                                   Text  health_related\n",
       "0     Canadian Federal Election Results (Timeseries)...             0.0\n",
       "1     Traffic Signs Preprocessed ### Related Paper\\n...             0.0\n",
       "2     Berlin Airbnb Data ### Context\\n\\nAirbnb has s...             0.0\n",
       "3     Sarcastic Comments - REDDIT ***Context***\\n\\nT...             0.0\n",
       "4     Boat types recognition ### Context\\n\\nThis dat...             0.0\n",
       "...                                                 ...             ...\n",
       "2990            rats could help reduce global tb burden             1.0\n",
       "2991  exploratory analyses adherence strategies data...             1.0\n",
       "2992  study vaccines diarrhoeal diseases lower respi...             1.0\n",
       "2993  regional engagement stimulation fund human imm...             1.0\n",
       "2994  graphic design services consultancy pstrongobj...             1.0\n",
       "\n",
       "[4041 rows x 2 columns]"
      ]
     },
     "execution_count": 35,
     "metadata": {},
     "output_type": "execute_result"
    }
   ],
   "source": [
    "health_related_training"
   ]
  },
  {
   "cell_type": "code",
   "execution_count": 122,
   "metadata": {},
   "outputs": [],
   "source": [
    "#health_related_training.to_csv('first_combined_kagglezindi_training.csv', encoding='utf-8')"
   ]
  }
 ],
 "metadata": {
  "kernelspec": {
   "display_name": "Python 3",
   "language": "python",
   "name": "python3"
  },
  "language_info": {
   "codemirror_mode": {
    "name": "ipython",
    "version": 3
   },
   "file_extension": ".py",
   "mimetype": "text/x-python",
   "name": "python",
   "nbconvert_exporter": "python",
   "pygments_lexer": "ipython3",
   "version": "3.7.3"
  }
 },
 "nbformat": 4,
 "nbformat_minor": 2
}
